{
 "cells": [
  {
   "cell_type": "code",
   "execution_count": 1,
   "id": "2be3b7eb",
   "metadata": {},
   "outputs": [],
   "source": [
    "import pandas as pd\n",
    "import numpy as np\n",
    "import seaborn as sns\n",
    "import matplotlib.pyplot as plt"
   ]
  },
  {
   "cell_type": "code",
   "execution_count": 2,
   "id": "6be267a3",
   "metadata": {},
   "outputs": [
    {
     "data": {
      "text/html": [
       "<div>\n",
       "<style scoped>\n",
       "    .dataframe tbody tr th:only-of-type {\n",
       "        vertical-align: middle;\n",
       "    }\n",
       "\n",
       "    .dataframe tbody tr th {\n",
       "        vertical-align: top;\n",
       "    }\n",
       "\n",
       "    .dataframe thead th {\n",
       "        text-align: right;\n",
       "    }\n",
       "</style>\n",
       "<table border=\"1\" class=\"dataframe\">\n",
       "  <thead>\n",
       "    <tr style=\"text-align: right;\">\n",
       "      <th></th>\n",
       "      <th>Unnamed: 0</th>\n",
       "      <th>date</th>\n",
       "      <th>state</th>\n",
       "      <th>hospitalized_with_symptoms</th>\n",
       "      <th>intensive_care</th>\n",
       "      <th>total_hospitalized</th>\n",
       "      <th>home_quarantine</th>\n",
       "      <th>total_confirmed_cases</th>\n",
       "      <th>variation_total_confirmed</th>\n",
       "      <th>new_confirmed_cases</th>\n",
       "      <th>recovered</th>\n",
       "      <th>deaths</th>\n",
       "      <th>total_cases</th>\n",
       "      <th>swabs_made</th>\n",
       "      <th>casi_testati</th>\n",
       "      <th>note_it</th>\n",
       "      <th>note_en</th>\n",
       "    </tr>\n",
       "  </thead>\n",
       "  <tbody>\n",
       "    <tr>\n",
       "      <th>0</th>\n",
       "      <td>0</td>\n",
       "      <td>2020-02-24T18:00:00</td>\n",
       "      <td>ITA</td>\n",
       "      <td>101</td>\n",
       "      <td>26</td>\n",
       "      <td>127</td>\n",
       "      <td>94</td>\n",
       "      <td>221</td>\n",
       "      <td>0</td>\n",
       "      <td>221</td>\n",
       "      <td>1</td>\n",
       "      <td>7</td>\n",
       "      <td>229</td>\n",
       "      <td>4324</td>\n",
       "      <td>NaN</td>\n",
       "      <td>NaN</td>\n",
       "      <td>NaN</td>\n",
       "    </tr>\n",
       "    <tr>\n",
       "      <th>1</th>\n",
       "      <td>1</td>\n",
       "      <td>2020-02-25T18:00:00</td>\n",
       "      <td>ITA</td>\n",
       "      <td>114</td>\n",
       "      <td>35</td>\n",
       "      <td>150</td>\n",
       "      <td>162</td>\n",
       "      <td>311</td>\n",
       "      <td>90</td>\n",
       "      <td>93</td>\n",
       "      <td>1</td>\n",
       "      <td>10</td>\n",
       "      <td>322</td>\n",
       "      <td>8623</td>\n",
       "      <td>NaN</td>\n",
       "      <td>NaN</td>\n",
       "      <td>NaN</td>\n",
       "    </tr>\n",
       "    <tr>\n",
       "      <th>2</th>\n",
       "      <td>2</td>\n",
       "      <td>2020-02-26T18:00:00</td>\n",
       "      <td>ITA</td>\n",
       "      <td>128</td>\n",
       "      <td>36</td>\n",
       "      <td>164</td>\n",
       "      <td>221</td>\n",
       "      <td>385</td>\n",
       "      <td>74</td>\n",
       "      <td>78</td>\n",
       "      <td>3</td>\n",
       "      <td>12</td>\n",
       "      <td>400</td>\n",
       "      <td>9587</td>\n",
       "      <td>NaN</td>\n",
       "      <td>NaN</td>\n",
       "      <td>NaN</td>\n",
       "    </tr>\n",
       "    <tr>\n",
       "      <th>3</th>\n",
       "      <td>3</td>\n",
       "      <td>2020-02-27T18:00:00</td>\n",
       "      <td>ITA</td>\n",
       "      <td>248</td>\n",
       "      <td>56</td>\n",
       "      <td>304</td>\n",
       "      <td>284</td>\n",
       "      <td>588</td>\n",
       "      <td>203</td>\n",
       "      <td>250</td>\n",
       "      <td>45</td>\n",
       "      <td>17</td>\n",
       "      <td>650</td>\n",
       "      <td>12014</td>\n",
       "      <td>NaN</td>\n",
       "      <td>NaN</td>\n",
       "      <td>NaN</td>\n",
       "    </tr>\n",
       "    <tr>\n",
       "      <th>4</th>\n",
       "      <td>4</td>\n",
       "      <td>2020-02-28T18:00:00</td>\n",
       "      <td>ITA</td>\n",
       "      <td>345</td>\n",
       "      <td>64</td>\n",
       "      <td>409</td>\n",
       "      <td>412</td>\n",
       "      <td>821</td>\n",
       "      <td>233</td>\n",
       "      <td>238</td>\n",
       "      <td>46</td>\n",
       "      <td>21</td>\n",
       "      <td>888</td>\n",
       "      <td>15695</td>\n",
       "      <td>NaN</td>\n",
       "      <td>NaN</td>\n",
       "      <td>NaN</td>\n",
       "    </tr>\n",
       "  </tbody>\n",
       "</table>\n",
       "</div>"
      ],
      "text/plain": [
       "   Unnamed: 0                 date state  hospitalized_with_symptoms  \\\n",
       "0           0  2020-02-24T18:00:00   ITA                         101   \n",
       "1           1  2020-02-25T18:00:00   ITA                         114   \n",
       "2           2  2020-02-26T18:00:00   ITA                         128   \n",
       "3           3  2020-02-27T18:00:00   ITA                         248   \n",
       "4           4  2020-02-28T18:00:00   ITA                         345   \n",
       "\n",
       "   intensive_care  total_hospitalized  home_quarantine  total_confirmed_cases  \\\n",
       "0              26                 127               94                    221   \n",
       "1              35                 150              162                    311   \n",
       "2              36                 164              221                    385   \n",
       "3              56                 304              284                    588   \n",
       "4              64                 409              412                    821   \n",
       "\n",
       "   variation_total_confirmed  new_confirmed_cases  recovered  deaths  \\\n",
       "0                          0                  221          1       7   \n",
       "1                         90                   93          1      10   \n",
       "2                         74                   78          3      12   \n",
       "3                        203                  250         45      17   \n",
       "4                        233                  238         46      21   \n",
       "\n",
       "   total_cases  swabs_made  casi_testati note_it note_en  \n",
       "0          229        4324           NaN     NaN     NaN  \n",
       "1          322        8623           NaN     NaN     NaN  \n",
       "2          400        9587           NaN     NaN     NaN  \n",
       "3          650       12014           NaN     NaN     NaN  \n",
       "4          888       15695           NaN     NaN     NaN  "
      ]
     },
     "execution_count": 2,
     "metadata": {},
     "output_type": "execute_result"
    }
   ],
   "source": [
    "data=pd.read_csv(\"covid-nationality.csv\")\n",
    "data.head()"
   ]
  },
  {
   "cell_type": "code",
   "execution_count": 3,
   "id": "aaf48eb0",
   "metadata": {},
   "outputs": [
    {
     "data": {
      "text/plain": [
       "Index(['Unnamed: 0', 'date', 'state', 'hospitalized_with_symptoms',\n",
       "       'intensive_care', 'total_hospitalized', 'home_quarantine',\n",
       "       'total_confirmed_cases', 'variation_total_confirmed',\n",
       "       'new_confirmed_cases', 'recovered', 'deaths', 'total_cases',\n",
       "       'swabs_made', 'casi_testati', 'note_it', 'note_en'],\n",
       "      dtype='object')"
      ]
     },
     "execution_count": 3,
     "metadata": {},
     "output_type": "execute_result"
    }
   ],
   "source": [
    "data.columns"
   ]
  },
  {
   "cell_type": "code",
   "execution_count": 4,
   "id": "040f1553",
   "metadata": {},
   "outputs": [
    {
     "data": {
      "text/html": [
       "<div>\n",
       "<style scoped>\n",
       "    .dataframe tbody tr th:only-of-type {\n",
       "        vertical-align: middle;\n",
       "    }\n",
       "\n",
       "    .dataframe tbody tr th {\n",
       "        vertical-align: top;\n",
       "    }\n",
       "\n",
       "    .dataframe thead th {\n",
       "        text-align: right;\n",
       "    }\n",
       "</style>\n",
       "<table border=\"1\" class=\"dataframe\">\n",
       "  <thead>\n",
       "    <tr style=\"text-align: right;\">\n",
       "      <th></th>\n",
       "      <th>Unnamed: 0</th>\n",
       "      <th>date</th>\n",
       "      <th>state</th>\n",
       "      <th>hospitalized_with_symptoms</th>\n",
       "      <th>intensive_care</th>\n",
       "      <th>total_hospitalized</th>\n",
       "      <th>home_quarantine</th>\n",
       "      <th>total_confirmed_cases</th>\n",
       "      <th>variation_total_confirmed</th>\n",
       "      <th>new_confirmed_cases</th>\n",
       "      <th>recovered</th>\n",
       "      <th>deaths</th>\n",
       "      <th>total_cases</th>\n",
       "      <th>swabs_made</th>\n",
       "      <th>casi_testati</th>\n",
       "      <th>note_it</th>\n",
       "      <th>note_en</th>\n",
       "    </tr>\n",
       "  </thead>\n",
       "  <tbody>\n",
       "    <tr>\n",
       "      <th>30</th>\n",
       "      <td>30</td>\n",
       "      <td>2020-03-25T17:00:00</td>\n",
       "      <td>ITA</td>\n",
       "      <td>23112</td>\n",
       "      <td>3489</td>\n",
       "      <td>26601</td>\n",
       "      <td>30920</td>\n",
       "      <td>57521</td>\n",
       "      <td>3491</td>\n",
       "      <td>5210</td>\n",
       "      <td>9362</td>\n",
       "      <td>7503</td>\n",
       "      <td>74386</td>\n",
       "      <td>324445</td>\n",
       "      <td>NaN</td>\n",
       "      <td>NaN</td>\n",
       "      <td>NaN</td>\n",
       "    </tr>\n",
       "    <tr>\n",
       "      <th>31</th>\n",
       "      <td>31</td>\n",
       "      <td>2020-03-26T17:00:00</td>\n",
       "      <td>ITA</td>\n",
       "      <td>24753</td>\n",
       "      <td>3612</td>\n",
       "      <td>28365</td>\n",
       "      <td>33648</td>\n",
       "      <td>62013</td>\n",
       "      <td>4492</td>\n",
       "      <td>6153</td>\n",
       "      <td>10361</td>\n",
       "      <td>8165</td>\n",
       "      <td>80539</td>\n",
       "      <td>361060</td>\n",
       "      <td>NaN</td>\n",
       "      <td>pd-IT-0007</td>\n",
       "      <td>pd-EN-0007</td>\n",
       "    </tr>\n",
       "    <tr>\n",
       "      <th>32</th>\n",
       "      <td>32</td>\n",
       "      <td>2020-03-27T17:00:00</td>\n",
       "      <td>ITA</td>\n",
       "      <td>26029</td>\n",
       "      <td>3732</td>\n",
       "      <td>29761</td>\n",
       "      <td>36653</td>\n",
       "      <td>66414</td>\n",
       "      <td>4401</td>\n",
       "      <td>5959</td>\n",
       "      <td>10950</td>\n",
       "      <td>9134</td>\n",
       "      <td>86498</td>\n",
       "      <td>394079</td>\n",
       "      <td>NaN</td>\n",
       "      <td>NaN</td>\n",
       "      <td>NaN</td>\n",
       "    </tr>\n",
       "    <tr>\n",
       "      <th>33</th>\n",
       "      <td>33</td>\n",
       "      <td>2020-03-28T17:00:00</td>\n",
       "      <td>ITA</td>\n",
       "      <td>26676</td>\n",
       "      <td>3856</td>\n",
       "      <td>30532</td>\n",
       "      <td>39533</td>\n",
       "      <td>70065</td>\n",
       "      <td>3651</td>\n",
       "      <td>5974</td>\n",
       "      <td>12384</td>\n",
       "      <td>10023</td>\n",
       "      <td>92472</td>\n",
       "      <td>429526</td>\n",
       "      <td>NaN</td>\n",
       "      <td>NaN</td>\n",
       "      <td>NaN</td>\n",
       "    </tr>\n",
       "    <tr>\n",
       "      <th>34</th>\n",
       "      <td>34</td>\n",
       "      <td>2020-03-29T17:00:00</td>\n",
       "      <td>ITA</td>\n",
       "      <td>27386</td>\n",
       "      <td>3906</td>\n",
       "      <td>31292</td>\n",
       "      <td>42588</td>\n",
       "      <td>73880</td>\n",
       "      <td>3815</td>\n",
       "      <td>5217</td>\n",
       "      <td>13030</td>\n",
       "      <td>10779</td>\n",
       "      <td>97689</td>\n",
       "      <td>454030</td>\n",
       "      <td>NaN</td>\n",
       "      <td>pd-IT-0009</td>\n",
       "      <td>pd-EN-0009</td>\n",
       "    </tr>\n",
       "  </tbody>\n",
       "</table>\n",
       "</div>"
      ],
      "text/plain": [
       "    Unnamed: 0                 date state  hospitalized_with_symptoms  \\\n",
       "30          30  2020-03-25T17:00:00   ITA                       23112   \n",
       "31          31  2020-03-26T17:00:00   ITA                       24753   \n",
       "32          32  2020-03-27T17:00:00   ITA                       26029   \n",
       "33          33  2020-03-28T17:00:00   ITA                       26676   \n",
       "34          34  2020-03-29T17:00:00   ITA                       27386   \n",
       "\n",
       "    intensive_care  total_hospitalized  home_quarantine  \\\n",
       "30            3489               26601            30920   \n",
       "31            3612               28365            33648   \n",
       "32            3732               29761            36653   \n",
       "33            3856               30532            39533   \n",
       "34            3906               31292            42588   \n",
       "\n",
       "    total_confirmed_cases  variation_total_confirmed  new_confirmed_cases  \\\n",
       "30                  57521                       3491                 5210   \n",
       "31                  62013                       4492                 6153   \n",
       "32                  66414                       4401                 5959   \n",
       "33                  70065                       3651                 5974   \n",
       "34                  73880                       3815                 5217   \n",
       "\n",
       "    recovered  deaths  total_cases  swabs_made  casi_testati     note_it  \\\n",
       "30       9362    7503        74386      324445           NaN         NaN   \n",
       "31      10361    8165        80539      361060           NaN  pd-IT-0007   \n",
       "32      10950    9134        86498      394079           NaN         NaN   \n",
       "33      12384   10023        92472      429526           NaN         NaN   \n",
       "34      13030   10779        97689      454030           NaN  pd-IT-0009   \n",
       "\n",
       "       note_en  \n",
       "30         NaN  \n",
       "31  pd-EN-0007  \n",
       "32         NaN  \n",
       "33         NaN  \n",
       "34  pd-EN-0009  "
      ]
     },
     "execution_count": 4,
     "metadata": {},
     "output_type": "execute_result"
    }
   ],
   "source": [
    "data.tail()"
   ]
  },
  {
   "cell_type": "code",
   "execution_count": 5,
   "id": "2b317e45",
   "metadata": {},
   "outputs": [
    {
     "data": {
      "text/html": [
       "<div>\n",
       "<style scoped>\n",
       "    .dataframe tbody tr th:only-of-type {\n",
       "        vertical-align: middle;\n",
       "    }\n",
       "\n",
       "    .dataframe tbody tr th {\n",
       "        vertical-align: top;\n",
       "    }\n",
       "\n",
       "    .dataframe thead th {\n",
       "        text-align: right;\n",
       "    }\n",
       "</style>\n",
       "<table border=\"1\" class=\"dataframe\">\n",
       "  <thead>\n",
       "    <tr style=\"text-align: right;\">\n",
       "      <th></th>\n",
       "      <th>Unnamed: 0</th>\n",
       "      <th>hospitalized_with_symptoms</th>\n",
       "      <th>intensive_care</th>\n",
       "      <th>total_hospitalized</th>\n",
       "      <th>home_quarantine</th>\n",
       "      <th>total_confirmed_cases</th>\n",
       "      <th>variation_total_confirmed</th>\n",
       "      <th>new_confirmed_cases</th>\n",
       "      <th>recovered</th>\n",
       "      <th>deaths</th>\n",
       "      <th>total_cases</th>\n",
       "      <th>swabs_made</th>\n",
       "      <th>casi_testati</th>\n",
       "    </tr>\n",
       "  </thead>\n",
       "  <tbody>\n",
       "    <tr>\n",
       "      <th>count</th>\n",
       "      <td>35.000000</td>\n",
       "      <td>35.000000</td>\n",
       "      <td>35.000000</td>\n",
       "      <td>35.000000</td>\n",
       "      <td>35.000000</td>\n",
       "      <td>35.000000</td>\n",
       "      <td>35.000000</td>\n",
       "      <td>35.000000</td>\n",
       "      <td>35.000000</td>\n",
       "      <td>35.000000</td>\n",
       "      <td>35.000000</td>\n",
       "      <td>35.000000</td>\n",
       "      <td>0.0</td>\n",
       "    </tr>\n",
       "    <tr>\n",
       "      <th>mean</th>\n",
       "      <td>17.000000</td>\n",
       "      <td>9742.600000</td>\n",
       "      <td>1539.228571</td>\n",
       "      <td>11281.857143</td>\n",
       "      <td>11466.942857</td>\n",
       "      <td>22748.771429</td>\n",
       "      <td>2104.542857</td>\n",
       "      <td>2790.885714</td>\n",
       "      <td>3341.657143</td>\n",
       "      <td>2646.942857</td>\n",
       "      <td>28737.371429</td>\n",
       "      <td>137260.485714</td>\n",
       "      <td>NaN</td>\n",
       "    </tr>\n",
       "    <tr>\n",
       "      <th>std</th>\n",
       "      <td>10.246951</td>\n",
       "      <td>9320.218169</td>\n",
       "      <td>1364.064581</td>\n",
       "      <td>10680.802798</td>\n",
       "      <td>13293.109179</td>\n",
       "      <td>23848.957586</td>\n",
       "      <td>1645.657929</td>\n",
       "      <td>2264.297187</td>\n",
       "      <td>4034.089386</td>\n",
       "      <td>3306.511730</td>\n",
       "      <td>31140.590349</td>\n",
       "      <td>134884.899167</td>\n",
       "      <td>NaN</td>\n",
       "    </tr>\n",
       "    <tr>\n",
       "      <th>min</th>\n",
       "      <td>0.000000</td>\n",
       "      <td>101.000000</td>\n",
       "      <td>26.000000</td>\n",
       "      <td>127.000000</td>\n",
       "      <td>94.000000</td>\n",
       "      <td>221.000000</td>\n",
       "      <td>0.000000</td>\n",
       "      <td>78.000000</td>\n",
       "      <td>1.000000</td>\n",
       "      <td>7.000000</td>\n",
       "      <td>229.000000</td>\n",
       "      <td>4324.000000</td>\n",
       "      <td>NaN</td>\n",
       "    </tr>\n",
       "    <tr>\n",
       "      <th>25%</th>\n",
       "      <td>8.500000</td>\n",
       "      <td>1190.000000</td>\n",
       "      <td>262.000000</td>\n",
       "      <td>1452.000000</td>\n",
       "      <td>1030.000000</td>\n",
       "      <td>2484.500000</td>\n",
       "      <td>485.500000</td>\n",
       "      <td>576.500000</td>\n",
       "      <td>218.000000</td>\n",
       "      <td>93.000000</td>\n",
       "      <td>2795.500000</td>\n",
       "      <td>27846.500000</td>\n",
       "      <td>NaN</td>\n",
       "    </tr>\n",
       "    <tr>\n",
       "      <th>50%</th>\n",
       "      <td>17.000000</td>\n",
       "      <td>6650.000000</td>\n",
       "      <td>1153.000000</td>\n",
       "      <td>7803.000000</td>\n",
       "      <td>5036.000000</td>\n",
       "      <td>12839.000000</td>\n",
       "      <td>2116.000000</td>\n",
       "      <td>2547.000000</td>\n",
       "      <td>1258.000000</td>\n",
       "      <td>1016.000000</td>\n",
       "      <td>15113.000000</td>\n",
       "      <td>86011.000000</td>\n",
       "      <td>NaN</td>\n",
       "    </tr>\n",
       "    <tr>\n",
       "      <th>75%</th>\n",
       "      <td>25.500000</td>\n",
       "      <td>16864.000000</td>\n",
       "      <td>2756.000000</td>\n",
       "      <td>19620.000000</td>\n",
       "      <td>20650.500000</td>\n",
       "      <td>40270.500000</td>\n",
       "      <td>3631.500000</td>\n",
       "      <td>5213.500000</td>\n",
       "      <td>5600.500000</td>\n",
       "      <td>4428.500000</td>\n",
       "      <td>50299.500000</td>\n",
       "      <td>220054.000000</td>\n",
       "      <td>NaN</td>\n",
       "    </tr>\n",
       "    <tr>\n",
       "      <th>max</th>\n",
       "      <td>34.000000</td>\n",
       "      <td>27386.000000</td>\n",
       "      <td>3906.000000</td>\n",
       "      <td>31292.000000</td>\n",
       "      <td>42588.000000</td>\n",
       "      <td>73880.000000</td>\n",
       "      <td>4821.000000</td>\n",
       "      <td>6557.000000</td>\n",
       "      <td>13030.000000</td>\n",
       "      <td>10779.000000</td>\n",
       "      <td>97689.000000</td>\n",
       "      <td>454030.000000</td>\n",
       "      <td>NaN</td>\n",
       "    </tr>\n",
       "  </tbody>\n",
       "</table>\n",
       "</div>"
      ],
      "text/plain": [
       "       Unnamed: 0  hospitalized_with_symptoms  intensive_care  \\\n",
       "count   35.000000                   35.000000       35.000000   \n",
       "mean    17.000000                 9742.600000     1539.228571   \n",
       "std     10.246951                 9320.218169     1364.064581   \n",
       "min      0.000000                  101.000000       26.000000   \n",
       "25%      8.500000                 1190.000000      262.000000   \n",
       "50%     17.000000                 6650.000000     1153.000000   \n",
       "75%     25.500000                16864.000000     2756.000000   \n",
       "max     34.000000                27386.000000     3906.000000   \n",
       "\n",
       "       total_hospitalized  home_quarantine  total_confirmed_cases  \\\n",
       "count           35.000000        35.000000              35.000000   \n",
       "mean         11281.857143     11466.942857           22748.771429   \n",
       "std          10680.802798     13293.109179           23848.957586   \n",
       "min            127.000000        94.000000             221.000000   \n",
       "25%           1452.000000      1030.000000            2484.500000   \n",
       "50%           7803.000000      5036.000000           12839.000000   \n",
       "75%          19620.000000     20650.500000           40270.500000   \n",
       "max          31292.000000     42588.000000           73880.000000   \n",
       "\n",
       "       variation_total_confirmed  new_confirmed_cases     recovered  \\\n",
       "count                  35.000000            35.000000     35.000000   \n",
       "mean                 2104.542857          2790.885714   3341.657143   \n",
       "std                  1645.657929          2264.297187   4034.089386   \n",
       "min                     0.000000            78.000000      1.000000   \n",
       "25%                   485.500000           576.500000    218.000000   \n",
       "50%                  2116.000000          2547.000000   1258.000000   \n",
       "75%                  3631.500000          5213.500000   5600.500000   \n",
       "max                  4821.000000          6557.000000  13030.000000   \n",
       "\n",
       "             deaths   total_cases     swabs_made  casi_testati  \n",
       "count     35.000000     35.000000      35.000000           0.0  \n",
       "mean    2646.942857  28737.371429  137260.485714           NaN  \n",
       "std     3306.511730  31140.590349  134884.899167           NaN  \n",
       "min        7.000000    229.000000    4324.000000           NaN  \n",
       "25%       93.000000   2795.500000   27846.500000           NaN  \n",
       "50%     1016.000000  15113.000000   86011.000000           NaN  \n",
       "75%     4428.500000  50299.500000  220054.000000           NaN  \n",
       "max    10779.000000  97689.000000  454030.000000           NaN  "
      ]
     },
     "execution_count": 5,
     "metadata": {},
     "output_type": "execute_result"
    }
   ],
   "source": [
    "data.describe()"
   ]
  },
  {
   "cell_type": "code",
   "execution_count": 6,
   "id": "151e3f18",
   "metadata": {},
   "outputs": [
    {
     "data": {
      "text/plain": [
       "Unnamed: 0                     0\n",
       "date                           0\n",
       "state                          0\n",
       "hospitalized_with_symptoms     0\n",
       "intensive_care                 0\n",
       "total_hospitalized             0\n",
       "home_quarantine                0\n",
       "total_confirmed_cases          0\n",
       "variation_total_confirmed      0\n",
       "new_confirmed_cases            0\n",
       "recovered                      0\n",
       "deaths                         0\n",
       "total_cases                    0\n",
       "swabs_made                     0\n",
       "casi_testati                  35\n",
       "note_it                       27\n",
       "note_en                       27\n",
       "dtype: int64"
      ]
     },
     "execution_count": 6,
     "metadata": {},
     "output_type": "execute_result"
    }
   ],
   "source": [
    "data.isnull().sum()"
   ]
  },
  {
   "cell_type": "code",
   "execution_count": 7,
   "id": "eacde2ac",
   "metadata": {},
   "outputs": [],
   "source": [
    "data.drop(['Unnamed: 0','casi_testati', 'note_it', 'note_en'], axis=1, inplace=True)\n"
   ]
  },
  {
   "cell_type": "code",
   "execution_count": 14,
   "id": "3e519f2d",
   "metadata": {},
   "outputs": [
    {
     "data": {
      "text/plain": [
       "Index(['date', 'state', 'hospitalized_with_symptoms', 'intensive_care',\n",
       "       'total_hospitalized', 'home_quarantine', 'total_confirmed_cases',\n",
       "       'variation_total_confirmed', 'new_confirmed_cases', 'recovered',\n",
       "       'deaths', 'total_cases', 'swabs_made'],\n",
       "      dtype='object')"
      ]
     },
     "execution_count": 14,
     "metadata": {},
     "output_type": "execute_result"
    }
   ],
   "source": [
    "data.columns"
   ]
  },
  {
   "cell_type": "code",
   "execution_count": 9,
   "id": "628815f2",
   "metadata": {},
   "outputs": [
    {
     "data": {
      "text/plain": [
       "<seaborn.axisgrid.FacetGrid at 0x1c286854a30>"
      ]
     },
     "execution_count": 9,
     "metadata": {},
     "output_type": "execute_result"
    },
    {
     "data": {
      "image/png": "[encoded data removed]",
      "text/plain": [
       "<Figure size 360x360 with 1 Axes>"
      ]
     },
     "metadata": {
      "needs_background": "light"
     },
     "output_type": "display_data"
    }
   ],
   "source": [
    "sns.relplot(x=\"total_cases\", y=\"recovered\", data=data)"
   ]
  },
  {
   "cell_type": "code",
   "execution_count": 10,
   "id": "5c0c2e3a",
   "metadata": {},
   "outputs": [
    {
     "data": {
      "text/plain": [
       "<seaborn.axisgrid.FacetGrid at 0x1c286847820>"
      ]
     },
     "execution_count": 10,
     "metadata": {},
     "output_type": "execute_result"
    },
    {
     "data": {
      "image/png": "[encoded data removed]",
      "text/plain": [
       "<Figure size 360x360 with 1 Axes>"
      ]
     },
     "metadata": {
      "needs_background": "light"
     },
     "output_type": "display_data"
    }
   ],
   "source": [
    "sns.relplot(x=\"total_cases\", y=\"total_confirmed_cases\", data=data)"
   ]
  },
  {
   "cell_type": "code",
   "execution_count": 11,
   "id": "f3d53ff5",
   "metadata": {},
   "outputs": [
    {
     "data": {
      "text/plain": [
       "<seaborn.axisgrid.FacetGrid at 0x1c28709bbb0>"
      ]
     },
     "execution_count": 11,
     "metadata": {},
     "output_type": "execute_result"
    },
    {
     "data": {
      "image/png": "[encoded data removed]",
      "text/plain": [
       "<Figure size 427.875x360 with 1 Axes>"
      ]
     },
     "metadata": {
      "needs_background": "light"
     },
     "output_type": "display_data"
    }
   ],
   "source": [
    "sns.relplot(y=\"hospitalized_with_symptoms\", x=\"total_confirmed_cases\", hue=\"recovered\", data=data)"
   ]
  },
  {
   "cell_type": "code",
   "execution_count": 12,
   "id": "be7ade84",
   "metadata": {},
   "outputs": [
    {
     "data": {
      "text/plain": [
       "<seaborn.axisgrid.FacetGrid at 0x1c287082cd0>"
      ]
     },
     "execution_count": 12,
     "metadata": {},
     "output_type": "execute_result"
    },
    {
     "data": {
      "image/png": "[encoded data removed]",
      "text/plain": [
       "<Figure size 360x360 with 1 Axes>"
      ]
     },
     "metadata": {
      "needs_background": "light"
     },
     "output_type": "display_data"
    }
   ],
   "source": [
    "sns.relplot(x=\"home_quarantine\", y=\"total_cases\", kind='line', data=data)"
   ]
  },
  {
   "cell_type": "code",
   "execution_count": 13,
   "id": "a2591b10",
   "metadata": {},
   "outputs": [
    {
     "data": {
      "text/plain": [
       "<seaborn.axisgrid.FacetGrid at 0x1c28705f280>"
      ]
     },
     "execution_count": 13,
     "metadata": {},
     "output_type": "execute_result"
    },
    {
     "data": {
      "image/png": "[encoded data removed]",
      "text/plain": [
       "<Figure size 360x360 with 1 Axes>"
      ]
     },
     "metadata": {
      "needs_background": "light"
     },
     "output_type": "display_data"
    }
   ],
   "source": [
    "sns.catplot(x=\"recovered\", y=\"total_cases\", data=data)"
   ]
  },
  {
   "cell_type": "code",
   "execution_count": null,
   "id": "317b2bc1",
   "metadata": {},
   "outputs": [],
   "source": []
  }
 ],
 "metadata": {
  "kernelspec": {
   "display_name": "Python 3 (ipykernel)",
   "language": "python",
   "name": "python3"
  },
  "language_info": {
   "codemirror_mode": {
    "name": "ipython",
    "version": 3
   },
   "file_extension": ".py",
   "mimetype": "text/x-python",
   "name": "python",
   "nbconvert_exporter": "python",
   "pygments_lexer": "ipython3",
   "version": "3.9.7"
  }
 },
 "nbformat": 4,
 "nbformat_minor": 5
}
